{
  "nbformat": 4,
  "nbformat_minor": 0,
  "metadata": {
    "colab": {
      "provenance": [],
      "include_colab_link": true
    },
    "kernelspec": {
      "name": "python3",
      "display_name": "Python 3"
    },
    "language_info": {
      "name": "python"
    }
  },
  "cells": [
    {
      "cell_type": "markdown",
      "metadata": {
        "id": "view-in-github",
        "colab_type": "text"
      },
      "source": [
        "<a href=\"https://colab.research.google.com/github/rayhannauval/Projects/blob/main/HW_3_Week_7_Rayhan_Narawangsa.ipynb\" target=\"_parent\"><img src=\"https://colab.research.google.com/assets/colab-badge.svg\" alt=\"Open In Colab\"/></a>"
      ]
    },
    {
      "cell_type": "code",
      "metadata": {
        "colab": {
          "base_uri": "https://localhost:8080/"
        },
        "id": "c5aVrMLsET18",
        "outputId": "d3204acd-81db-40a7-dc02-35394b1d0dc3"
      },
      "source": [
        "import tweepy as tw\n",
        "\n",
        "API_KEY = \"T280pFnl0esTCTyfoGFt98nop\"\n",
        "SECRET_KEY = \"mCM3sMf0ZwtM667fc6j6Rh6BTAs4KVpDjtWebxAZ4DS0jAmV1K\"\n",
        "BEARER_KEY = \"AAAAAAAAAAAAAAAAAAAAANkPRgEAAAAAvbI6AauwzAHRrbAX3Qw4us5L9aU%3Dp5FMIZXLOaFvlePZTKnJzuLbwMttldBRlCBieV2tXODpp3NVso\"\n",
        "ACCESS_TOKEN = \"1413641596340379649-MvWmdaLaZzsq9FB2myk8D8rjryWqpW\"\n",
        "SECRET_TOKEN = \"bg2QW0aStAUggMxq9sJrN8K0nCNfzhVoEVzrMJiMVjbOR\"\n",
        "\n",
        "auth = tw.OAuthHandler(API_KEY, SECRET_KEY)\n",
        "auth.set_access_token(ACCESS_TOKEN, SECRET_TOKEN)\n",
        "api = tw.API(auth, wait_on_rate_limit=True, wait_on_rate_limit_notify=True)\n",
        "\n",
        "search_words = \"#data-science\"\n",
        "\n",
        "\n",
        "import pandas as pd\n",
        "counter = 1\n",
        "\n",
        "tweet_dataset = pd.DataFrame(columns=['Tweet Id', 'Tweet Date', 'Follower Count', 'Account Verified', 'Favorite Count', 'Retweets', 'Tweet Text'])\n",
        "\n",
        "for tweet in tw.Cursor(api.search, tweet_mode='extended', q=search_words, lang=\"en\").items():\n",
        "        appending_dataframe = pd.DataFrame([[tweet.id, tweet.created_at, tweet.user.followers_count, tweet.user.verified, tweet.favorite_count, tweet.retweet_count, tweet.full_text.encode('utf-8')]], columns=['Tweet Id', 'Tweet Date', 'Follower Count', 'Account Verified', 'Favorite Count', 'Retweets', 'Tweet Text'])\n",
        "        tweet_dataset = tweet_dataset.append(appending_dataframe)\n",
        "        counter+=1\n",
        "        if counter >= 10:\n",
        "            break"
      ],
      "execution_count": null,
      "outputs": [
        {
          "output_type": "stream",
          "name": "stderr",
          "text": [
            "Rate limit reached. Sleeping for: 105\n"
          ]
        }
      ]
    },
    {
      "cell_type": "code",
      "metadata": {
        "colab": {
          "base_uri": "https://localhost:8080/",
          "height": 221
        },
        "id": "Bsuc0Ym8E-fJ",
        "outputId": "6630d01f-9879-4c2e-b05a-7958452429d7"
      },
      "source": [
        "display(tweet_dataset.shape)\n",
        "tweet_dataset.head()"
      ],
      "execution_count": null,
      "outputs": [
        {
          "output_type": "display_data",
          "data": {
            "text/plain": [
              "(9, 7)"
            ]
          },
          "metadata": {}
        },
        {
          "output_type": "execute_result",
          "data": {
            "text/html": [
              "<div>\n",
              "<style scoped>\n",
              "    .dataframe tbody tr th:only-of-type {\n",
              "        vertical-align: middle;\n",
              "    }\n",
              "\n",
              "    .dataframe tbody tr th {\n",
              "        vertical-align: top;\n",
              "    }\n",
              "\n",
              "    .dataframe thead th {\n",
              "        text-align: right;\n",
              "    }\n",
              "</style>\n",
              "<table border=\"1\" class=\"dataframe\">\n",
              "  <thead>\n",
              "    <tr style=\"text-align: right;\">\n",
              "      <th></th>\n",
              "      <th>Tweet Id</th>\n",
              "      <th>Tweet Date</th>\n",
              "      <th>Follower Count</th>\n",
              "      <th>Account Verified</th>\n",
              "      <th>Favorite Count</th>\n",
              "      <th>Retweets</th>\n",
              "      <th>Tweet Text</th>\n",
              "    </tr>\n",
              "  </thead>\n",
              "  <tbody>\n",
              "    <tr>\n",
              "      <th>0</th>\n",
              "      <td>1440696215855779850</td>\n",
              "      <td>2021-09-22 15:15:19</td>\n",
              "      <td>7</td>\n",
              "      <td>False</td>\n",
              "      <td>0</td>\n",
              "      <td>62</td>\n",
              "      <td>b'RT @Awasthi_Anshul_: @MoE_TEQIPF is deliveri...</td>\n",
              "    </tr>\n",
              "    <tr>\n",
              "      <th>0</th>\n",
              "      <td>1440696156498006020</td>\n",
              "      <td>2021-09-22 15:15:05</td>\n",
              "      <td>130</td>\n",
              "      <td>False</td>\n",
              "      <td>0</td>\n",
              "      <td>4</td>\n",
              "      <td>b'RT @manikant_gupta: @MoE_TEQIPF is deliverin...</td>\n",
              "    </tr>\n",
              "    <tr>\n",
              "      <th>0</th>\n",
              "      <td>1440696154065305612</td>\n",
              "      <td>2021-09-22 15:15:04</td>\n",
              "      <td>840</td>\n",
              "      <td>False</td>\n",
              "      <td>0</td>\n",
              "      <td>0</td>\n",
              "      <td>b'RT Why You Should Think of the Enterprise of...</td>\n",
              "    </tr>\n",
              "    <tr>\n",
              "      <th>0</th>\n",
              "      <td>1440696153608056837</td>\n",
              "      <td>2021-09-22 15:15:04</td>\n",
              "      <td>1359</td>\n",
              "      <td>False</td>\n",
              "      <td>0</td>\n",
              "      <td>0</td>\n",
              "      <td>b'Why You Should Think of the Enterprise of Da...</td>\n",
              "    </tr>\n",
              "    <tr>\n",
              "      <th>0</th>\n",
              "      <td>1440696138416279569</td>\n",
              "      <td>2021-09-22 15:15:00</td>\n",
              "      <td>33</td>\n",
              "      <td>False</td>\n",
              "      <td>0</td>\n",
              "      <td>0</td>\n",
              "      <td>b'SALTY FREE BITCONNECT DOG POO URNY HEAVYCOIN...</td>\n",
              "    </tr>\n",
              "  </tbody>\n",
              "</table>\n",
              "</div>"
            ],
            "text/plain": [
              "              Tweet Id  ...                                         Tweet Text\n",
              "0  1440696215855779850  ...  b'RT @Awasthi_Anshul_: @MoE_TEQIPF is deliveri...\n",
              "0  1440696156498006020  ...  b'RT @manikant_gupta: @MoE_TEQIPF is deliverin...\n",
              "0  1440696154065305612  ...  b'RT Why You Should Think of the Enterprise of...\n",
              "0  1440696153608056837  ...  b'Why You Should Think of the Enterprise of Da...\n",
              "0  1440696138416279569  ...  b'SALTY FREE BITCONNECT DOG POO URNY HEAVYCOIN...\n",
              "\n",
              "[5 rows x 7 columns]"
            ]
          },
          "metadata": {},
          "execution_count": 2
        }
      ]
    }
  ]
}